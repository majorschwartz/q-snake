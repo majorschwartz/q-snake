{
 "cells": [
  {
   "cell_type": "code",
   "execution_count": 85,
   "metadata": {},
   "outputs": [],
   "source": [
    "import numpy as np\n",
    "import torch"
   ]
  },
  {
   "cell_type": "code",
   "execution_count": 86,
   "metadata": {},
   "outputs": [],
   "source": [
    "board = np.zeros((10, 10), dtype=np.int8)"
   ]
  },
  {
   "cell_type": "code",
   "execution_count": 87,
   "metadata": {},
   "outputs": [],
   "source": [
    "class Direction:\n",
    "\tUP = 1\n",
    "\tDOWN = 2\n",
    "\tLEFT = 3\n",
    "\tRIGHT = 4\n",
    "\n",
    "snake = [(5, 1), (5, 2), (5, 3), (5, 4), (5, 5)]\n",
    "direction = Direction.RIGHT\n",
    "food = (3, 3)\n",
    "\n",
    "for x, y in snake:\n",
    "\tboard[x, y] = True\n",
    "board[food] = 2"
   ]
  },
  {
   "cell_type": "code",
   "execution_count": 88,
   "metadata": {},
   "outputs": [
    {
     "data": {
      "text/plain": [
       "array([[0, 0, 0, 0, 0, 0, 0, 0, 0, 0],\n",
       "       [0, 0, 0, 0, 0, 0, 0, 0, 0, 0],\n",
       "       [0, 0, 0, 0, 0, 0, 0, 0, 0, 0],\n",
       "       [0, 0, 0, 2, 0, 0, 0, 0, 0, 0],\n",
       "       [0, 0, 0, 0, 0, 0, 0, 0, 0, 0],\n",
       "       [0, 1, 1, 1, 1, 1, 0, 0, 0, 0],\n",
       "       [0, 0, 0, 0, 0, 0, 0, 0, 0, 0],\n",
       "       [0, 0, 0, 0, 0, 0, 0, 0, 0, 0],\n",
       "       [0, 0, 0, 0, 0, 0, 0, 0, 0, 0],\n",
       "       [0, 0, 0, 0, 0, 0, 0, 0, 0, 0]], dtype=int8)"
      ]
     },
     "execution_count": 88,
     "metadata": {},
     "output_type": "execute_result"
    }
   ],
   "source": [
    "board"
   ]
  },
  {
   "cell_type": "code",
   "execution_count": 89,
   "metadata": {},
   "outputs": [],
   "source": [
    "def step(board, food, snake, direction) -> tuple[np.array, list, bool]:\n",
    "\tnew_snake = snake.copy()\n",
    "\thead = new_snake[-1]\n",
    "\tnew_head = None\n",
    "\tif direction == Direction.UP:\n",
    "\t\tnew_head = (head[0] - 1, head[1])\n",
    "\telif direction == Direction.DOWN:\n",
    "\t\tnew_head = (head[0] + 1, head[1])\n",
    "\telif direction == Direction.LEFT:\n",
    "\t\tnew_head = (head[0], head[1] - 1)\n",
    "\telif direction == Direction.RIGHT:\n",
    "\t\tnew_head = (head[0], head[1] + 1)\n",
    "\telse:\n",
    "\t\traise ValueError(\"Invalid direction\")\n",
    "\tif new_head[0] < 0 or new_head[0] >= board.shape[0] or new_head[1] < 0 or new_head[1] >= board.shape[1]:\n",
    "\t\treturn board, food, snake, False\n",
    "\tif board[new_head[0], new_head[1]] == 1:\n",
    "\t\treturn board, food, snake, False\n",
    "\tnew_snake.append(new_head)\n",
    "\tif new_head != food:\n",
    "\t\tnew_snake.pop(0)\n",
    "\telse:\n",
    "\t\tfood = (np.random.randint(0, board.shape[0]), np.random.randint(0, board.shape[1]))\n",
    "\t\twhile board[food] == 1:\n",
    "\t\t\tfood = (np.random.randint(0, board.shape[0]), np.random.randint(0, board.shape[1]))\n",
    "\tboard = np.zeros_like(board)\n",
    "\tfor x, y in new_snake:\n",
    "\t\tboard[x, y] = True\n",
    "\tboard[food] = 2\n",
    "\treturn board, food, new_snake, True"
   ]
  },
  {
   "cell_type": "code",
   "execution_count": 95,
   "metadata": {},
   "outputs": [
    {
     "name": "stdout",
     "output_type": "stream",
     "text": [
      ". . . . . . . . . . \n",
      ". . . . . . . . . . \n",
      "@ . . . . . . . . . \n",
      ". . . # . . . . . . \n",
      ". . . # . . . . . . \n",
      ". . . # . . . . . . \n",
      ". . . # # # . . . . \n",
      ". . . . . . . . . . \n",
      ". . . . . . . . . . \n",
      ". . . . . . . . . . \n"
     ]
    }
   ],
   "source": [
    "board, food, snake, alive = step(board, food, snake, Direction.UP)\n",
    "for row in board:\n",
    "\tprint(\"\".join(\"# \" if x == 1 else \". \" if x == 0 else \"@ \" for x in row))"
   ]
  },
  {
   "cell_type": "code",
   "execution_count": 7,
   "metadata": {},
   "outputs": [
    {
     "data": {
      "text/plain": [
       "([(5, 2), (5, 3), (5, 4), (5, 5), (6, 5)], 5, True)"
      ]
     },
     "execution_count": 7,
     "metadata": {},
     "output_type": "execute_result"
    }
   ],
   "source": [
    "snake, len(snake), alive"
   ]
  },
  {
   "cell_type": "code",
   "execution_count": 139,
   "metadata": {},
   "outputs": [
    {
     "data": {
      "text/plain": [
       "<module 'qsnake' from '/Users/majorschwartz/Desktop/q-snake/qsnake.py'>"
      ]
     },
     "execution_count": 139,
     "metadata": {},
     "output_type": "execute_result"
    }
   ],
   "source": [
    "import importlib\n",
    "import qsnake\n",
    "importlib.reload(qsnake)"
   ]
  },
  {
   "cell_type": "code",
   "execution_count": 184,
   "metadata": {},
   "outputs": [
    {
     "name": "stdout",
     "output_type": "stream",
     "text": [
      "⬜️ ⬜️ ⬜️ ⬜️ ⬜️ ⬜️ ⬜️ ⬜️ ⬜️ ⬜️ \n",
      "⬜️ ⬜️ ⬜️ ⬜️ ⬜️ ⬜️ ⬜️ ⬜️ ⬜️ ⬜️ \n",
      "⬜️ ⬜️ ⬜️ ⬜️ ⬜️ ⬜️ ⬜️ ⬜️ ⬜️ ⬜️ \n",
      "⬜️ ⬜️ ⬜️ ⬜️ ⬜️ ⬜️ ⬜️ ⬜️ ⬜️ ⬜️ \n",
      "⬜️ ⬜️ ⬜️ ⬜️ ⬜️ ⬜️ ⬜️ ⬜️ ⬜️ ⬜️ \n",
      "⬜️ ⬜️ ⬜️ 🟩 🟩 🟩 ⬜️ ⬜️ ⬜️ ⬜️ \n",
      "⬜️ ⬜️ ⬜️ ⬜️ ⬜️ ⬜️ ⬜️ ⬜️ ⬜️ ⬜️ \n",
      "⬜️ ⬜️ ⬜️ ⬜️ ⬜️ ⬜️ ⬜️ ⬜️ ⬜️ ⬜️ \n",
      "⬜️ ⬜️ ⬜️ ⬜️ ⬜️ ⬜️ ⬜️ ⬜️ ⬜️ ⬜️ \n",
      "🍎 ⬜️ ⬜️ ⬜️ ⬜️ ⬜️ ⬜️ ⬜️ ⬜️ ⬜️ \n"
     ]
    }
   ],
   "source": [
    "game = qsnake.QSnake()\n",
    "game.display_board()"
   ]
  },
  {
   "cell_type": "code",
   "execution_count": 183,
   "metadata": {},
   "outputs": [
    {
     "name": "stdout",
     "output_type": "stream",
     "text": [
      "([(2, 2), (3, 2), (4, 2), (5, 2), (6, 2), (7, 2), (7, 1), (6, 1)], (9, 7), array([[0, 0, 0, 0, 0, 0, 0, 0, 0, 0],\n",
      "       [0, 0, 0, 0, 0, 0, 0, 0, 0, 0],\n",
      "       [0, 0, 1, 0, 0, 0, 0, 0, 0, 0],\n",
      "       [0, 0, 1, 0, 0, 0, 0, 0, 0, 0],\n",
      "       [0, 0, 1, 0, 0, 0, 0, 0, 0, 0],\n",
      "       [0, 0, 1, 0, 0, 0, 0, 0, 0, 0],\n",
      "       [0, 1, 1, 0, 0, 0, 0, 0, 0, 0],\n",
      "       [0, 1, 1, 0, 0, 0, 0, 0, 0, 0],\n",
      "       [0, 0, 0, 0, 0, 0, 0, 0, 0, 0],\n",
      "       [0, 0, 0, 0, 0, 0, 0, 2, 0, 0]], dtype=int8))\n",
      "⬜️ ⬜️ ⬜️ ⬜️ ⬜️ ⬜️ ⬜️ ⬜️ ⬜️ ⬜️ \n",
      "⬜️ ⬜️ ⬜️ ⬜️ ⬜️ ⬜️ ⬜️ ⬜️ ⬜️ ⬜️ \n",
      "⬜️ ⬜️ 🟩 ⬜️ ⬜️ ⬜️ ⬜️ ⬜️ ⬜️ ⬜️ \n",
      "⬜️ ⬜️ 🟩 ⬜️ ⬜️ ⬜️ ⬜️ ⬜️ ⬜️ ⬜️ \n",
      "⬜️ ⬜️ 🟩 ⬜️ ⬜️ ⬜️ ⬜️ ⬜️ ⬜️ ⬜️ \n",
      "⬜️ ⬜️ 🟩 ⬜️ ⬜️ ⬜️ ⬜️ ⬜️ ⬜️ ⬜️ \n",
      "⬜️ 🟩 🟩 ⬜️ ⬜️ ⬜️ ⬜️ ⬜️ ⬜️ ⬜️ \n",
      "⬜️ 🟩 🟩 ⬜️ ⬜️ ⬜️ ⬜️ ⬜️ ⬜️ ⬜️ \n",
      "⬜️ ⬜️ ⬜️ ⬜️ ⬜️ ⬜️ ⬜️ ⬜️ ⬜️ ⬜️ \n",
      "⬜️ ⬜️ ⬜️ ⬜️ ⬜️ ⬜️ ⬜️ 🍎 ⬜️ ⬜️ \n"
     ]
    }
   ],
   "source": [
    "game.step(qsnake.Direction.UP)\n",
    "print(game.get_vision())\n",
    "game.display_board()"
   ]
  },
  {
   "cell_type": "code",
   "execution_count": null,
   "metadata": {},
   "outputs": [],
   "source": []
  }
 ],
 "metadata": {
  "kernelspec": {
   "display_name": "Python 3",
   "language": "python",
   "name": "python3"
  },
  "language_info": {
   "codemirror_mode": {
    "name": "ipython",
    "version": 3
   },
   "file_extension": ".py",
   "mimetype": "text/x-python",
   "name": "python",
   "nbconvert_exporter": "python",
   "pygments_lexer": "ipython3",
   "version": "3.12.3"
  }
 },
 "nbformat": 4,
 "nbformat_minor": 2
}
